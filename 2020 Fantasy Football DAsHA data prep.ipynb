{
 "cells": [
  {
   "cell_type": "markdown",
   "metadata": {},
   "source": [
    "# Non-Parametric Gaussian Kernel Density Estimation Fantasy Football Draft Assist Tool"
   ]
  },
  {
   "cell_type": "code",
   "execution_count": 2,
   "metadata": {},
   "outputs": [],
   "source": [
    "import numpy as np\n",
    "import pandas as pd\n",
    "%matplotlib inline\n",
    "from scipy import stats\n",
    "import statsmodels.api as sm\n",
    "import matplotlib.pyplot as plt\n",
    "from statsmodels.distributions.mixture_rvs import mixture_rvs"
   ]
  },
  {
   "cell_type": "markdown",
   "metadata": {},
   "source": [
    "# Part 1 - Data Import and Merging\n",
    "\n",
    "First, we get the raw input data from:\n",
    "https://fantasy.espn.com/football/players/projections?leagueFormatId=1\n",
    "https://www.fantasysharks.com/apps/Projections/SeasonProjections.php?pos=ALL\n",
    "https://www.fantasypros.com/nfl/rankings/consensus-cheatsheets.php?loggedin=&my-experts=ALL\n",
    "https://fftoolbox.fulltimefantasy.com/football/rankings/index.php?noppr=true\n",
    "https://fantasy.nfl.com/research/projections?position=O&sort=projectedPts&statCategory=projectedStats&statSeason=2020&statType=seasonProjectedStats#researchProjections=researchProjections%2C%2Fresearch%2Fprojections%253Fposition%253DO%2526statCategory%253DprojectedStats%2526statSeason%253D2020%2526statType%253DseasonProjectedStats%2526statWeek%253D1%2Creplace\n",
    "\n",
    "and Yahoo!'s draft position list from:\n",
    "https://football.fantasysports.yahoo.com/f1/826195/1/editprerank\n",
    "\n",
    "These are all saved in the directory as .xlsx files"
   ]
  },
  {
   "cell_type": "markdown",
   "metadata": {},
   "source": [
    "Next, we will compile and merge the data based on player names from the Yahoo! draft list (because that's what we will utilimately be calling on with the draft tool)."
   ]
  },
  {
   "cell_type": "code",
   "execution_count": 3,
   "metadata": {},
   "outputs": [],
   "source": [
    "# load Yahoo! draft positions\n",
    "df = pd.read_excel('Yahoo_2020_Draft_Positions.xlsx')\n",
    "df['Name'] = df['Name'].str.strip() # strip the names so they can be directly compared to other lists\n",
    "\n",
    "# load Fantasy Pros Projections\n",
    "df1 = pd.read_excel('Fantasy_Pros_2020_proj.xlsx')\n",
    "\n",
    "# construct temp data frame to merge relevant info\n",
    "df_x = pd.DataFrame()\n",
    "df_x['Name'] = df1['PLAYER'].str.strip()\n",
    "df_x['fp_pts'] = df1['FAN PTS']\n",
    "\n",
    "# merge df with temp df\n",
    "df = pd.merge(df,\n",
    "              df_x,\n",
    "              on='Name',\n",
    "              how ='outer')\n",
    "\n",
    "# import NFL projections\n",
    "df2 = pd.read_excel('NFL_2020_proj.xlsx')\n",
    "df_x = pd.DataFrame()\n",
    "df_x['Name'] = df2['PLAYER'].str.strip()\n",
    "df_x['nfl_pts'] = df2['POINTS']\n",
    "\n",
    "df = pd.merge(df,\n",
    "              df_x,\n",
    "              on='Name',\n",
    "              how ='outer')\n",
    "\n",
    "# import ESPN projections\n",
    "df3 = pd.read_excel('ESPN_2020_proj.xlsx')\n",
    "\n",
    "df_x = pd.DataFrame()\n",
    "df_x['Name'] = df3['PLAYER'].str.strip()\n",
    "df_x['espn_pts'] = df3['TOT']\n",
    "\n",
    "df = pd.merge(df,\n",
    "              df_x,\n",
    "              on='Name',\n",
    "              how ='outer')\n",
    "\n",
    "# import Fantasy Shark projections\n",
    "df4 = pd.read_excel('Fantasy_Shark_2020_proj.xlsx')\n",
    "\n",
    "df_x = pd.DataFrame()\n",
    "df_x['Name'] = df4['Name'].str.strip()\n",
    "df_x['fs_pts'] = df4['Fantasy Points']\n",
    "\n",
    "df = pd.merge(df,\n",
    "              df_x,\n",
    "              on='Name',\n",
    "              how ='outer')\n",
    "\n",
    "# import Sports Illustrated projections\n",
    "df5 = pd.read_excel('Sports_Illustrated_2020_proj.xlsx')\n",
    "\n",
    "df_x = pd.DataFrame()\n",
    "df_x['Name'] = df5['PLAYER'].str.strip()\n",
    "df_x['si_pts'] = df5['POINTS']\n",
    "\n",
    "df = pd.merge(df,\n",
    "              df_x,\n",
    "              on='Name',\n",
    "              how ='outer')\n",
    "\n",
    "# drop the players not available in Yahoo!\n",
    "df = df.dropna(subset=['Draft Position'])\n",
    "\n",
    "# # check the dataframe head to verify import/merge worked\n",
    "# df.head()"
   ]
  },
  {
   "cell_type": "markdown",
   "metadata": {},
   "source": [
    "# Part 2 - Gaussian Kernel Density Estimation\n",
    "\n",
    "Now for the non-parametric fun!\n",
    "\n",
    "We will create a Gaussian kernel density estimation for each player using the projected points from each source (NFL, ESPN, Fantasy Sharks, etc.) for the kernels."
   ]
  },
  {
   "cell_type": "code",
   "execution_count": 4,
   "metadata": {},
   "outputs": [],
   "source": [
    "# create an empty column to store point projections for each player\n",
    "df['pts'] = np.nan\n",
    "\n",
    "# create an empty column to store the inverse cumulative density function data for each player's kde estimation\n",
    "df['kde_icdf'] = [[] for _ in range(len(df))]\n",
    "\n",
    "# # check the dataframe head to verify columns added\n",
    "# df.head()"
   ]
  },
  {
   "cell_type": "markdown",
   "metadata": {},
   "source": [
    "This block of code generates the non-parametric estimations for each player and stores: (i) the median value from the KDE as their projected points and (ii) the inverse CDF as an array in kde_icdf so we can generate the non-parametric confidence intervals for the draft tool.\n",
    "\n",
    "Note - depending on your computer this may take several minutes to run, so go get a coffee or walk around the block!"
   ]
  },
  {
   "cell_type": "code",
   "execution_count": 299,
   "metadata": {
    "scrolled": true
   },
   "outputs": [
    {
     "name": "stderr",
     "output_type": "stream",
     "text": [
      "C:\\Users\\Paul\\Anaconda3\\lib\\site-packages\\ipykernel_launcher.py:27: SettingWithCopyWarning: \n",
      "A value is trying to be set on a copy of a slice from a DataFrame\n",
      "\n",
      "See the caveats in the documentation: http://pandas.pydata.org/pandas-docs/stable/indexing.html#indexing-view-versus-copy\n",
      "C:\\Users\\Paul\\Anaconda3\\lib\\site-packages\\ipykernel_launcher.py:29: SettingWithCopyWarning: \n",
      "A value is trying to be set on a copy of a slice from a DataFrame\n",
      "\n",
      "See the caveats in the documentation: http://pandas.pydata.org/pandas-docs/stable/indexing.html#indexing-view-versus-copy\n",
      "C:\\Users\\Paul\\Anaconda3\\lib\\site-packages\\statsmodels\\nonparametric\\kde.py:353: RuntimeWarning: invalid value encountered in true_divide\n",
      "  k = (X.T - grid[:, None])/bw  # uses broadcasting to make a gridsize x nobs\n",
      "C:\\Users\\Paul\\Anaconda3\\lib\\site-packages\\statsmodels\\sandbox\\nonparametric\\kernels.py:204: RuntimeWarning: divide by zero encountered in double_scalars\n",
      "  w = 1. / (h * n) * np.sum(self((xs-x)/h), axis=0)\n",
      "C:\\Users\\Paul\\Anaconda3\\lib\\site-packages\\statsmodels\\sandbox\\nonparametric\\kernels.py:204: RuntimeWarning: divide by zero encountered in true_divide\n",
      "  w = 1. / (h * n) * np.sum(self((xs-x)/h), axis=0)\n",
      "C:\\Users\\Paul\\Anaconda3\\lib\\site-packages\\statsmodels\\sandbox\\nonparametric\\kernels.py:204: RuntimeWarning: invalid value encountered in multiply\n",
      "  w = 1. / (h * n) * np.sum(self((xs-x)/h), axis=0)\n",
      "C:\\Users\\Paul\\Anaconda3\\lib\\site-packages\\statsmodels\\sandbox\\nonparametric\\kernels.py:204: RuntimeWarning: invalid value encountered in true_divide\n",
      "  w = 1. / (h * n) * np.sum(self((xs-x)/h), axis=0)\n",
      "C:\\Users\\Paul\\Anaconda3\\lib\\site-packages\\statsmodels\\nonparametric\\kde.py:180: IntegrationWarning: Extremely bad integrand behavior occurs at some points of the\n",
      "  integration interval.\n",
      "  args=endog)[0] for i in range(1, gridsize)]\n"
     ]
    },
    {
     "data": {
      "text/html": [
       "<div>\n",
       "<style scoped>\n",
       "    .dataframe tbody tr th:only-of-type {\n",
       "        vertical-align: middle;\n",
       "    }\n",
       "\n",
       "    .dataframe tbody tr th {\n",
       "        vertical-align: top;\n",
       "    }\n",
       "\n",
       "    .dataframe thead th {\n",
       "        text-align: right;\n",
       "    }\n",
       "</style>\n",
       "<table border=\"1\" class=\"dataframe\">\n",
       "  <thead>\n",
       "    <tr style=\"text-align: right;\">\n",
       "      <th></th>\n",
       "      <th>Draft Position</th>\n",
       "      <th>Name</th>\n",
       "      <th>POS</th>\n",
       "      <th>TEAM</th>\n",
       "      <th>fp_pts</th>\n",
       "      <th>nfl_pts</th>\n",
       "      <th>espn_pts</th>\n",
       "      <th>fs_pts</th>\n",
       "      <th>si_pts</th>\n",
       "      <th>pts</th>\n",
       "      <th>kde_icdf</th>\n",
       "    </tr>\n",
       "  </thead>\n",
       "  <tbody>\n",
       "    <tr>\n",
       "      <th>0</th>\n",
       "      <td>1.0</td>\n",
       "      <td>Patrick Mahomes</td>\n",
       "      <td>QB</td>\n",
       "      <td>KC</td>\n",
       "      <td>292.04</td>\n",
       "      <td>348.33</td>\n",
       "      <td>336.1</td>\n",
       "      <td>407.0</td>\n",
       "      <td>424.9</td>\n",
       "      <td>361.924693</td>\n",
       "      <td>[292.04, 292.04, 292.04, 292.04, 292.04, 292.0...</td>\n",
       "    </tr>\n",
       "    <tr>\n",
       "      <th>1</th>\n",
       "      <td>2.0</td>\n",
       "      <td>Lamar Jackson</td>\n",
       "      <td>QB</td>\n",
       "      <td>Bal</td>\n",
       "      <td>421.68</td>\n",
       "      <td>366.23</td>\n",
       "      <td>338.5</td>\n",
       "      <td>425.0</td>\n",
       "      <td>391.0</td>\n",
       "      <td>393.524116</td>\n",
       "      <td>[338.5, 338.5, 338.5, 338.5, 338.5, 338.5, 339...</td>\n",
       "    </tr>\n",
       "    <tr>\n",
       "      <th>2</th>\n",
       "      <td>3.0</td>\n",
       "      <td>Dak Prescott</td>\n",
       "      <td>QB</td>\n",
       "      <td>Dal</td>\n",
       "      <td>348.78</td>\n",
       "      <td>304.36</td>\n",
       "      <td>301.5</td>\n",
       "      <td>373.0</td>\n",
       "      <td>386.8</td>\n",
       "      <td>346.575778</td>\n",
       "      <td>[301.5, 301.5, 301.5, 301.5, 301.5, 301.5, 301...</td>\n",
       "    </tr>\n",
       "    <tr>\n",
       "      <th>3</th>\n",
       "      <td>4.0</td>\n",
       "      <td>Russell Wilson</td>\n",
       "      <td>QB</td>\n",
       "      <td>Sea</td>\n",
       "      <td>333.60</td>\n",
       "      <td>309.06</td>\n",
       "      <td>293.9</td>\n",
       "      <td>352.0</td>\n",
       "      <td>354.6</td>\n",
       "      <td>332.662493</td>\n",
       "      <td>[293.9, 293.9, 293.9, 293.9, 293.9, 293.9, 294...</td>\n",
       "    </tr>\n",
       "    <tr>\n",
       "      <th>4</th>\n",
       "      <td>5.0</td>\n",
       "      <td>Kyler Murray</td>\n",
       "      <td>QB</td>\n",
       "      <td>Ari</td>\n",
       "      <td>297.28</td>\n",
       "      <td>291.92</td>\n",
       "      <td>299.5</td>\n",
       "      <td>301.0</td>\n",
       "      <td>381.3</td>\n",
       "      <td>300.834030</td>\n",
       "      <td>[291.92, 291.92, 291.92, 291.92, 291.92, 291.9...</td>\n",
       "    </tr>\n",
       "  </tbody>\n",
       "</table>\n",
       "</div>"
      ],
      "text/plain": [
       "   Draft Position             Name  POS TEAM  fp_pts  nfl_pts  espn_pts  \\\n",
       "0             1.0  Patrick Mahomes   QB   KC  292.04   348.33     336.1   \n",
       "1             2.0    Lamar Jackson   QB  Bal  421.68   366.23     338.5   \n",
       "2             3.0     Dak Prescott   QB  Dal  348.78   304.36     301.5   \n",
       "3             4.0   Russell Wilson   QB  Sea  333.60   309.06     293.9   \n",
       "4             5.0     Kyler Murray   QB  Ari  297.28   291.92     299.5   \n",
       "\n",
       "   fs_pts  si_pts         pts  \\\n",
       "0   407.0   424.9  361.924693   \n",
       "1   425.0   391.0  393.524116   \n",
       "2   373.0   386.8  346.575778   \n",
       "3   352.0   354.6  332.662493   \n",
       "4   301.0   381.3  300.834030   \n",
       "\n",
       "                                            kde_icdf  \n",
       "0  [292.04, 292.04, 292.04, 292.04, 292.04, 292.0...  \n",
       "1  [338.5, 338.5, 338.5, 338.5, 338.5, 338.5, 339...  \n",
       "2  [301.5, 301.5, 301.5, 301.5, 301.5, 301.5, 301...  \n",
       "3  [293.9, 293.9, 293.9, 293.9, 293.9, 293.9, 294...  \n",
       "4  [291.92, 291.92, 291.92, 291.92, 291.92, 291.9...  "
      ]
     },
     "execution_count": 299,
     "metadata": {},
     "output_type": "execute_result"
    }
   ],
   "source": [
    "for j in range(66,len(df)):\n",
    "    # this block constructs an array for each player of the different fantasy point estimates. This array is used for the KDE.\n",
    "    test_array = []\n",
    "    test_array.append(df['fp_pts'][j])\n",
    "    test_array.append(df['nfl_pts'][j])\n",
    "    test_array.append(df['espn_pts'][j])\n",
    "    test_array.append(df['fs_pts'][j])\n",
    "    test_array.append(df['si_pts'][j])\n",
    "    test_array = [x for x in test_array if str(x) != 'nan'] # clean the test_array for NaN values - which interfere with the analysis below\n",
    "    if len(test_array) == 0:\n",
    "        test_array = [0]\n",
    "    \n",
    "    # this sets up and runs the non-parametric estimation\n",
    "    kde = sm.nonparametric.KDEUnivariate(test_array)\n",
    "    kde.fit(kernel='gau', bw='silverman', fft=False) # Estimate the densities\n",
    "\n",
    "    # This for loop processes to find the median projection\n",
    "    ci_50 = 0 #initialize median value to zero\n",
    "    for i in range(0, len(kde.cdf)):\n",
    "        if kde.cdf[i] < 0.50:\n",
    "            i+=1\n",
    "        if kde.cdf[i] >= 0.50:\n",
    "            ci_50 = kde.support[i]\n",
    "            break\n",
    "\n",
    "    # Add data to main dataframe\n",
    "    df['pts'][j]=ci_50 # add median projection\n",
    "\n",
    "    df['kde_icdf'][j]=kde.icdf # add icdf for whisker plot construction\n",
    "\n",
    "# # check that data was generated/input correctly\n",
    "# df.head()\n",
    "\n",
    "# export dataset to .csv file so we don't have to run the code above again (it's time consuming!)\n",
    "df.to_csv(r'C:\\Users\\Paul\\Documents\\Python Scripts\\2020 FFL\\2020_ffl_df.csv')"
   ]
  },
  {
   "cell_type": "markdown",
   "metadata": {},
   "source": [
    "Example for what we are doing with the KDE estimation. Set 'j' to be your favorite number, and we'll generate a Gaussian KDE probability density function for the player corresponding to that draft rank.\n",
    "\n",
    "The various point estimates for that player (from ESPN, SI, ets.) are indicated by the red '+'s at the bottom of the graph. What KDE does is to center a normal gaussian distribution (with area = $\\frac{1}{n}$ for n point estimates) over each of thes point estimates. Then, to generate the probabilty density function, we sum all of these \"kernels\" together - this summation is the orange line in the graph below.\n",
    "\n",
    "Then, the following block of code generates a histogram from the KDE PDF showing the 1- and 2- standard deviation confidence intervals."
   ]
  },
  {
   "cell_type": "code",
   "execution_count": 16,
   "metadata": {
    "scrolled": true
   },
   "outputs": [
    {
     "data": {
      "image/png": "[encoded data removed]",
      "text/plain": [
       "<Figure size 720x360 with 1 Axes>"
      ]
     },
     "metadata": {
      "needs_background": "light"
     },
     "output_type": "display_data"
    }
   ],
   "source": [
    "j = 125\n",
    "\n",
    "# this block constructs an array for each player of the different fantasy point estimates. This array is used for the KDE.\n",
    "test_array = []\n",
    "test_array.append(df['fp_pts'][j])\n",
    "test_array.append(df['nfl_pts'][j])\n",
    "test_array.append(df['espn_pts'][j])\n",
    "test_array.append(df['fs_pts'][j])\n",
    "test_array.append(df['si_pts'][j])\n",
    "test_array = [x for x in test_array if str(x) != 'nan'] # clean the test_array for NaN values - which interfere with the analysis below\n",
    "if len(test_array) == 0:\n",
    "    test_array = [0]\n",
    "    \n",
    "# this sets up and runs the non-parametric estimation\n",
    "kde = sm.nonparametric.KDEUnivariate(test_array)\n",
    "kde.fit(kernel='gau', bw='silverman', fft=False) # Estimate the densities\n",
    "\n",
    "\n",
    "# Note: some plots for the kde visualizations that I'm turning off for the working loops\n",
    "fig = plt.figure(figsize=(10, 5))\n",
    "ax = fig.add_subplot(111)\n",
    "\n",
    "# Plot the histrogram\n",
    "ax.hist(test_array, bins=5, density=True, label='Histogram from forecasts',\n",
    "        zorder=5, edgecolor='k', alpha=0.5)\n",
    "# Plot the KDE as fitted using the default arguments\n",
    "ax.plot(kde.support, kde.density, lw=3, label='KDE from projections', zorder=10)\n",
    "    \n",
    "# Plot the samples\n",
    "ax.scatter(test_array, np.abs(np.random.randn(len(test_array)))/100000,marker='+', color='red', zorder=20, label='Point Forecasts', alpha=0.5)\n",
    "ax.legend(loc='best')\n",
    "ax.grid(True, zorder=-5)"
   ]
  },
  {
   "cell_type": "markdown",
   "metadata": {},
   "source": [
    "Example for confidence interval plots generated from the KDE PDF above."
   ]
  },
  {
   "cell_type": "code",
   "execution_count": 17,
   "metadata": {},
   "outputs": [
    {
     "data": {
      "image/png": "[encoded data removed]",
      "text/plain": [
       "<Figure size 432x288 with 1 Axes>"
      ]
     },
     "metadata": {
      "needs_background": "light"
     },
     "output_type": "display_data"
    }
   ],
   "source": [
    "box_plot_data=kde.icdf\n",
    "plt.boxplot(box_plot_data, vert=False, labels=[df['Name'][j]])\n",
    "plt.show()"
   ]
  }
 ],
 "metadata": {
  "kernelspec": {
   "display_name": "Python 3",
   "language": "python",
   "name": "python3"
  },
  "language_info": {
   "codemirror_mode": {
    "name": "ipython",
    "version": 3
   },
   "file_extension": ".py",
   "mimetype": "text/x-python",
   "name": "python",
   "nbconvert_exporter": "python",
   "pygments_lexer": "ipython3",
   "version": "3.7.3"
  }
 },
 "nbformat": 4,
 "nbformat_minor": 2
}
