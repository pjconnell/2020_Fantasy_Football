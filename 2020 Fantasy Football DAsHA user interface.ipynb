{
 "cells": [
  {
   "cell_type": "markdown",
   "metadata": {},
   "source": [
    "# Section 1 - run this part beforehand"
   ]
  },
  {
   "cell_type": "markdown",
   "metadata": {},
   "source": [
    "First, import the packages we need to run the analysis below"
   ]
  },
  {
   "cell_type": "code",
   "execution_count": 1,
   "metadata": {},
   "outputs": [],
   "source": [
    "import numpy as np\n",
    "import pandas as pd\n",
    "%matplotlib inline\n",
    "from scipy import stats\n",
    "import statsmodels.api as sm\n",
    "import matplotlib.pyplot as plt\n",
    "from statsmodels.distributions.mixture_rvs import mixture_rvs"
   ]
  },
  {
   "cell_type": "markdown",
   "metadata": {},
   "source": [
    "Next, we'll import the merged data from the csv file, then clean it for processing (note, this will take a few minutes - so do in advance)."
   ]
  },
  {
   "cell_type": "code",
   "execution_count": 3,
   "metadata": {},
   "outputs": [
    {
     "name": "stderr",
     "output_type": "stream",
     "text": [
      "C:\\Users\\Paul\\Anaconda3\\lib\\site-packages\\ipykernel_launcher.py:6: SettingWithCopyWarning: \n",
      "A value is trying to be set on a copy of a slice from a DataFrame\n",
      "\n",
      "See the caveats in the documentation: http://pandas.pydata.org/pandas-docs/stable/indexing.html#indexing-view-versus-copy\n",
      "  \n",
      "C:\\Users\\Paul\\Anaconda3\\lib\\site-packages\\ipykernel_launcher.py:7: SettingWithCopyWarning: \n",
      "A value is trying to be set on a copy of a slice from a DataFrame\n",
      "\n",
      "See the caveats in the documentation: http://pandas.pydata.org/pandas-docs/stable/indexing.html#indexing-view-versus-copy\n",
      "  import sys\n"
     ]
    }
   ],
   "source": [
    "#import the csv file\n",
    "df = pd.read_csv('2020_ffl_df.csv')\n",
    "\n",
    "# clean up the kde_icdf column\n",
    "for i in range(0,len(df)):\n",
    "    df['kde_icdf'][i] = df['kde_icdf'][i].replace('\\n',' ').replace('[','').replace(']','')\n",
    "    df['kde_icdf'][i] = [float(x) for x in df['kde_icdf'][i].split()]\n",
    "    \n",
    "# more clean-up\n",
    "df['POS']=df['POS'].str.strip()\n",
    "\n",
    "# add drafted column to track drafted players\n",
    "df['drafted']=0"
   ]
  },
  {
   "cell_type": "markdown",
   "metadata": {},
   "source": [
    "Defines the program to give us our Dasha output. Спасибо, Дашенка!"
   ]
  },
  {
   "cell_type": "code",
   "execution_count": 4,
   "metadata": {},
   "outputs": [],
   "source": [
    "def DAsHa_prgm(ttnp):\n",
    "    # #variable for 'turns to next pick'\n",
    "    # ttnp = 24\n",
    "\n",
    "    #to find current draft number\n",
    "    cur_num = 0\n",
    "    i=0\n",
    "    while cur_num == 0:\n",
    "        if df['drafted'][i] == 1:\n",
    "            i+=1\n",
    "        else:\n",
    "            cur_num = df['Draft Position'][i]\n",
    "\n",
    "    # threshold for next available picks\n",
    "    next_avail = cur_num+ttnp\n",
    "\n",
    "    # loops to construct info panes\n",
    "    # set up vars\n",
    "    compare1 = [] # to collect best players at each position\n",
    "    compare2 = [] # to collect best avaialable next round at each position (note: may overlap with compare1)\n",
    "    compare3 = [] # to collect second-best player at each position\n",
    "\n",
    "    positions = ['QB','RB','WR','TE','K','DEF']\n",
    "\n",
    "    # loop to identify best choices\n",
    "    j=0\n",
    "    for j in range(0,len(positions)):\n",
    "        k=0\n",
    "        for k in range(0,len(df)):\n",
    "            if df['drafted'][k] == 1:\n",
    "                k+=1\n",
    "            if df['drafted'][k] == 0:\n",
    "                if df['POS'][k] == positions[j]:\n",
    "                    if len(compare1) > j:\n",
    "                        if df['pts'][k] > compare1[j][2]:\n",
    "                            compare1[j]=[df['POS'][k],df['Name'][k],df['pts'][k],df['Draft Position'][k]]\n",
    "                            k+=1\n",
    "                        if df['pts'][k] <= compare1[j][2]:\n",
    "                            k+=1\n",
    "                    if len(compare1)<=j:\n",
    "                        compare1.append([df['POS'][k],df['Name'][k],df['pts'][k],df['Draft Position'][k]])\n",
    "                        k+=1\n",
    "\n",
    "    # loop to identify best choice in next round at each position                \n",
    "    j=0\n",
    "    for j in range(0,len(positions)):\n",
    "        k=0\n",
    "        for k in range(0,len(df)):\n",
    "            if df['drafted'][k] == 1:\n",
    "                k+=1\n",
    "            if df['drafted'][k] == 0:\n",
    "                if df['POS'][k] == positions[j]:\n",
    "                    if len(compare2) > j:\n",
    "                        if df['Draft Position'][k] < next_avail:\n",
    "                            k+=1\n",
    "                        else:\n",
    "                            if df['pts'][k] > compare2[j][2]:\n",
    "                                compare2[j]=[df['POS'][k],df['Name'][k],df['pts'][k],df['Draft Position'][k]]\n",
    "                                k+=1\n",
    "                            if df['pts'][k] <= compare2[j][2]:\n",
    "                                k+=1\n",
    "                    if len(compare2)<=j:\n",
    "                        if df['Draft Position'][k] < next_avail:\n",
    "                            k+=1\n",
    "                        else:\n",
    "                            compare2.append([df['POS'][k],df['Name'][k],df['pts'][k],df['Draft Position'][k]])\n",
    "                            k+=1 \n",
    "\n",
    "    # loop to collect second-best choices for each round\n",
    "    j=0\n",
    "    for j in range(0,len(positions)):\n",
    "        k=0\n",
    "        for k in range(0,len(df)):\n",
    "            if df['drafted'][k] == 1:\n",
    "                k+=1\n",
    "            if df['drafted'][k] == 0:\n",
    "                if df['POS'][k] == positions[j]:\n",
    "                    if len(compare3) > j:\n",
    "                        if df['Name'][k] == compare1[j][1]:\n",
    "                            k+=1\n",
    "                        else:\n",
    "                            if df['pts'][k] > compare3[j][2]:\n",
    "                                compare3[j]=[df['POS'][k],df['Name'][k],df['pts'][k],df['Draft Position'][k]]\n",
    "                                k+=1\n",
    "                            if df['pts'][k] <= compare3[j][2]:\n",
    "                                k+=1\n",
    "                    if len(compare3)<=j:\n",
    "                        if df['Name'][k] == compare1[j][1]:\n",
    "                            k+=1\n",
    "                        else:\n",
    "                            compare3.append([df['POS'][k],df['Name'][k],df['pts'][k],df['Draft Position'][k]])\n",
    "                            k+=1 \n",
    "\n",
    "    # make marginal comparison and append to compare1 list\n",
    "    for j in range(0,len(positions)):\n",
    "        marg = compare1[j][2]-compare2[j][2]\n",
    "        compare1[j].append(marg)\n",
    "\n",
    "    # print recommendation menu\n",
    "    for i in range(0,len(positions)):\n",
    "        print(f\"{compare1[i][0]:{5}} - {compare1[i][1]:{20}} - {round(compare1[i][2],2):{6}}, margin: {round(compare1[i][4],2)}\")\n",
    "\n",
    "    # find top two second-best\n",
    "    top_seconds = [compare3[0][2],compare3[1][2],compare3[2][2],compare3[3][2],compare3[4][2],compare3[5][2],]\n",
    "\n",
    "    # finding index values (based off Yahoo! draft position) to call the boxplots\n",
    "    f = compare1[0][3]-1\n",
    "    e = compare1[1][3]-1\n",
    "    d = compare1[2][3]-1\n",
    "    c = compare1[3][3]-1\n",
    "    b = compare1[4][3]-1\n",
    "    a = compare1[5][3]-1\n",
    "\n",
    "    #boxplots of recs\n",
    "    box_plot_data=[df['kde_icdf'][a],df['kde_icdf'][b],df['kde_icdf'][c],df['kde_icdf'][d],df['kde_icdf'][e],df['kde_icdf'][f]]\n",
    "    plt.boxplot(box_plot_data, vert=False, labels=[df['Name'][a], df['Name'][b], df['Name'][c],df['Name'][d], df['Name'][e], df['Name'][f] ])\n",
    "    plt.show()\n",
    "\n",
    "    # find top two second-best\n",
    "    top_seconds = [compare3[0][2],compare3[1][2],compare3[2][2],compare3[3][2],compare3[4][2],compare3[5][2],]\n",
    "\n",
    "    first_comp = top_seconds.index(max(top_seconds))\n",
    "    top_seconds[first_comp] = 0\n",
    "    second_comp = top_seconds.index(max(top_seconds))\n",
    "\n",
    "    # boxplots of second best\n",
    "    z = compare1[first_comp][3]-1\n",
    "    y = compare3[first_comp][3]-1\n",
    "    x = compare1[second_comp][3]-1\n",
    "    w = compare3[second_comp][3]-1\n",
    "\n",
    "    box_plot_data=[df['kde_icdf'][y],df['kde_icdf'][z]]\n",
    "    plt.boxplot(box_plot_data, vert=False, labels=[df['Name'][y],df['Name'][z]])\n",
    "    plt.show()\n",
    "\n",
    "    box_plot_data=[df['kde_icdf'][w],df['kde_icdf'][x]]\n",
    "    plt.boxplot(box_plot_data, vert=False, labels=[df['Name'][w], df['Name'][x]])\n",
    "    plt.show()   "
   ]
  },
  {
   "cell_type": "markdown",
   "metadata": {},
   "source": [
    "# Section 2 - this is the user-interface to use for your draft assistance"
   ]
  },
  {
   "cell_type": "markdown",
   "metadata": {},
   "source": [
    "This is the user-interace: enter the picked players until it's your turn. Then, enter \"DAsHA_prgm(# of rounds to your next pick)\" in the cell below."
   ]
  },
  {
   "cell_type": "code",
   "execution_count": 5,
   "metadata": {},
   "outputs": [
    {
     "name": "stdout",
     "output_type": "stream",
     "text": [
      "Who was the last pick?Lamar Jackson\n"
     ]
    },
    {
     "name": "stderr",
     "output_type": "stream",
     "text": [
      "C:\\Users\\Paul\\Anaconda3\\lib\\site-packages\\ipykernel_launcher.py:7: SettingWithCopyWarning: \n",
      "A value is trying to be set on a copy of a slice from a DataFrame\n",
      "\n",
      "See the caveats in the documentation: http://pandas.pydata.org/pandas-docs/stable/indexing.html#indexing-view-versus-copy\n",
      "  import sys\n"
     ]
    },
    {
     "name": "stdout",
     "output_type": "stream",
     "text": [
      "Is it your turn?n\n",
      "Who was the last pick?Patrick Mahomes\n",
      "Is it your turn?n\n",
      "Who was the last pick?Dak Prescott\n",
      "Is it your turn?n\n",
      "Who was the last pick?Russell Wilson\n",
      "Is it your turn?n\n",
      "Who was the last pick?Kyler Murray\n",
      "Is it your turn?y\n"
     ]
    }
   ],
   "source": [
    "your_turn = 'No'\n",
    "while your_turn == 'No':\n",
    "    new_draft = input('Who was the last pick?')\n",
    "    if new_draft != '':\n",
    "        temp_index = df['Name'].str.find(str(new_draft.strip()))\n",
    "        temp_no = temp_index.values.argmax()\n",
    "        df['drafted'][temp_no] = 1\n",
    "        new_draft = ''\n",
    "    your_turn = input('Is it your turn?')\n",
    "    if your_turn == 'no':\n",
    "        your_turn = 'No'\n",
    "    elif your_turn == 'n':\n",
    "        your_turn = 'No'\n",
    "    elif your_turn == 'No.':\n",
    "        your_turn = 'No'\n"
   ]
  },
  {
   "cell_type": "code",
   "execution_count": 6,
   "metadata": {},
   "outputs": [
    {
     "name": "stdout",
     "output_type": "stream",
     "text": [
      "QB    - Deshaun Watson       -  341.1, margin: 82.24\n",
      "RB    - Christian McCaffrey  - 349.62, margin: 84.73\n",
      "WR    - Michael Thomas       - 251.89, margin: 0.0\n",
      "TE    - Travis Kelce         - 205.98, margin: 0.0\n",
      "K     - Harrison Butker      - 153.07, margin: 0.0\n",
      "DEF   - New England          -  180.3, margin: 0.0\n"
     ]
    },
    {
     "data": {
      "image/png": "[encoded data removed]",
      "text/plain": [
       "<Figure size 432x288 with 1 Axes>"
      ]
     },
     "metadata": {
      "needs_background": "light"
     },
     "output_type": "display_data"
    },
    {
     "data": {
      "image/png": "[encoded data removed]",
      "text/plain": [
       "<Figure size 432x288 with 1 Axes>"
      ]
     },
     "metadata": {
      "needs_background": "light"
     },
     "output_type": "display_data"
    },
    {
     "data": {
      "image/png": "[encoded data removed]",
      "text/plain": [
       "<Figure size 432x288 with 1 Axes>"
      ]
     },
     "metadata": {
      "needs_background": "light"
     },
     "output_type": "display_data"
    }
   ],
   "source": [
    "DAsHa_prgm(24)"
   ]
  }
 ],
 "metadata": {
  "kernelspec": {
   "display_name": "Python 3",
   "language": "python",
   "name": "python3"
  },
  "language_info": {
   "codemirror_mode": {
    "name": "ipython",
    "version": 3
   },
   "file_extension": ".py",
   "mimetype": "text/x-python",
   "name": "python",
   "nbconvert_exporter": "python",
   "pygments_lexer": "ipython3",
   "version": "3.7.3"
  }
 },
 "nbformat": 4,
 "nbformat_minor": 2
}
